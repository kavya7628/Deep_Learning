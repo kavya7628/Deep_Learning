{
 "cells": [
  {
   "cell_type": "code",
   "execution_count": 1,
   "id": "5b7f6a5c-81c5-465c-91af-7ddbd21c8741",
   "metadata": {},
   "outputs": [],
   "source": [
    "import pandas as pd\n",
    "import numpy as np\n",
    "import seaborn as sbn\n",
    "from matplotlib import pyplot as plt\n",
    "%matplotlib inline\n"
   ]
  },
  {
   "cell_type": "code",
   "execution_count": 2,
   "id": "8b65c608-cfac-4622-9e47-b017812ff8cd",
   "metadata": {},
   "outputs": [],
   "source": [
    "import warnings\n",
    "warnings.filterwarnings('ignore')"
   ]
  },
  {
   "cell_type": "code",
   "execution_count": 3,
   "id": "1263aa05-805c-4263-8557-16a273cca1ac",
   "metadata": {},
   "outputs": [
    {
     "data": {
      "text/html": [
       "<div>\n",
       "<style scoped>\n",
       "    .dataframe tbody tr th:only-of-type {\n",
       "        vertical-align: middle;\n",
       "    }\n",
       "\n",
       "    .dataframe tbody tr th {\n",
       "        vertical-align: top;\n",
       "    }\n",
       "\n",
       "    .dataframe thead th {\n",
       "        text-align: right;\n",
       "    }\n",
       "</style>\n",
       "<table border=\"1\" class=\"dataframe\">\n",
       "  <thead>\n",
       "    <tr style=\"text-align: right;\">\n",
       "      <th></th>\n",
       "      <th>0</th>\n",
       "      <th>1</th>\n",
       "      <th>2</th>\n",
       "      <th>3</th>\n",
       "      <th>4</th>\n",
       "      <th>5</th>\n",
       "      <th>6</th>\n",
       "      <th>7</th>\n",
       "      <th>8</th>\n",
       "      <th>9</th>\n",
       "      <th>...</th>\n",
       "      <th>51</th>\n",
       "      <th>52</th>\n",
       "      <th>53</th>\n",
       "      <th>54</th>\n",
       "      <th>55</th>\n",
       "      <th>56</th>\n",
       "      <th>57</th>\n",
       "      <th>58</th>\n",
       "      <th>59</th>\n",
       "      <th>60</th>\n",
       "    </tr>\n",
       "  </thead>\n",
       "  <tbody>\n",
       "    <tr>\n",
       "      <th>0</th>\n",
       "      <td>0.0200</td>\n",
       "      <td>0.0371</td>\n",
       "      <td>0.0428</td>\n",
       "      <td>0.0207</td>\n",
       "      <td>0.0954</td>\n",
       "      <td>0.0986</td>\n",
       "      <td>0.1539</td>\n",
       "      <td>0.1601</td>\n",
       "      <td>0.3109</td>\n",
       "      <td>0.2111</td>\n",
       "      <td>...</td>\n",
       "      <td>0.0027</td>\n",
       "      <td>0.0065</td>\n",
       "      <td>0.0159</td>\n",
       "      <td>0.0072</td>\n",
       "      <td>0.0167</td>\n",
       "      <td>0.0180</td>\n",
       "      <td>0.0084</td>\n",
       "      <td>0.0090</td>\n",
       "      <td>0.0032</td>\n",
       "      <td>R</td>\n",
       "    </tr>\n",
       "    <tr>\n",
       "      <th>1</th>\n",
       "      <td>0.0453</td>\n",
       "      <td>0.0523</td>\n",
       "      <td>0.0843</td>\n",
       "      <td>0.0689</td>\n",
       "      <td>0.1183</td>\n",
       "      <td>0.2583</td>\n",
       "      <td>0.2156</td>\n",
       "      <td>0.3481</td>\n",
       "      <td>0.3337</td>\n",
       "      <td>0.2872</td>\n",
       "      <td>...</td>\n",
       "      <td>0.0084</td>\n",
       "      <td>0.0089</td>\n",
       "      <td>0.0048</td>\n",
       "      <td>0.0094</td>\n",
       "      <td>0.0191</td>\n",
       "      <td>0.0140</td>\n",
       "      <td>0.0049</td>\n",
       "      <td>0.0052</td>\n",
       "      <td>0.0044</td>\n",
       "      <td>R</td>\n",
       "    </tr>\n",
       "    <tr>\n",
       "      <th>2</th>\n",
       "      <td>0.0262</td>\n",
       "      <td>0.0582</td>\n",
       "      <td>0.1099</td>\n",
       "      <td>0.1083</td>\n",
       "      <td>0.0974</td>\n",
       "      <td>0.2280</td>\n",
       "      <td>0.2431</td>\n",
       "      <td>0.3771</td>\n",
       "      <td>0.5598</td>\n",
       "      <td>0.6194</td>\n",
       "      <td>...</td>\n",
       "      <td>0.0232</td>\n",
       "      <td>0.0166</td>\n",
       "      <td>0.0095</td>\n",
       "      <td>0.0180</td>\n",
       "      <td>0.0244</td>\n",
       "      <td>0.0316</td>\n",
       "      <td>0.0164</td>\n",
       "      <td>0.0095</td>\n",
       "      <td>0.0078</td>\n",
       "      <td>R</td>\n",
       "    </tr>\n",
       "    <tr>\n",
       "      <th>3</th>\n",
       "      <td>0.0100</td>\n",
       "      <td>0.0171</td>\n",
       "      <td>0.0623</td>\n",
       "      <td>0.0205</td>\n",
       "      <td>0.0205</td>\n",
       "      <td>0.0368</td>\n",
       "      <td>0.1098</td>\n",
       "      <td>0.1276</td>\n",
       "      <td>0.0598</td>\n",
       "      <td>0.1264</td>\n",
       "      <td>...</td>\n",
       "      <td>0.0121</td>\n",
       "      <td>0.0036</td>\n",
       "      <td>0.0150</td>\n",
       "      <td>0.0085</td>\n",
       "      <td>0.0073</td>\n",
       "      <td>0.0050</td>\n",
       "      <td>0.0044</td>\n",
       "      <td>0.0040</td>\n",
       "      <td>0.0117</td>\n",
       "      <td>R</td>\n",
       "    </tr>\n",
       "    <tr>\n",
       "      <th>4</th>\n",
       "      <td>0.0762</td>\n",
       "      <td>0.0666</td>\n",
       "      <td>0.0481</td>\n",
       "      <td>0.0394</td>\n",
       "      <td>0.0590</td>\n",
       "      <td>0.0649</td>\n",
       "      <td>0.1209</td>\n",
       "      <td>0.2467</td>\n",
       "      <td>0.3564</td>\n",
       "      <td>0.4459</td>\n",
       "      <td>...</td>\n",
       "      <td>0.0031</td>\n",
       "      <td>0.0054</td>\n",
       "      <td>0.0105</td>\n",
       "      <td>0.0110</td>\n",
       "      <td>0.0015</td>\n",
       "      <td>0.0072</td>\n",
       "      <td>0.0048</td>\n",
       "      <td>0.0107</td>\n",
       "      <td>0.0094</td>\n",
       "      <td>R</td>\n",
       "    </tr>\n",
       "  </tbody>\n",
       "</table>\n",
       "<p>5 rows × 61 columns</p>\n",
       "</div>"
      ],
      "text/plain": [
       "       0       1       2       3       4       5       6       7       8   \\\n",
       "0  0.0200  0.0371  0.0428  0.0207  0.0954  0.0986  0.1539  0.1601  0.3109   \n",
       "1  0.0453  0.0523  0.0843  0.0689  0.1183  0.2583  0.2156  0.3481  0.3337   \n",
       "2  0.0262  0.0582  0.1099  0.1083  0.0974  0.2280  0.2431  0.3771  0.5598   \n",
       "3  0.0100  0.0171  0.0623  0.0205  0.0205  0.0368  0.1098  0.1276  0.0598   \n",
       "4  0.0762  0.0666  0.0481  0.0394  0.0590  0.0649  0.1209  0.2467  0.3564   \n",
       "\n",
       "       9   ...      51      52      53      54      55      56      57  \\\n",
       "0  0.2111  ...  0.0027  0.0065  0.0159  0.0072  0.0167  0.0180  0.0084   \n",
       "1  0.2872  ...  0.0084  0.0089  0.0048  0.0094  0.0191  0.0140  0.0049   \n",
       "2  0.6194  ...  0.0232  0.0166  0.0095  0.0180  0.0244  0.0316  0.0164   \n",
       "3  0.1264  ...  0.0121  0.0036  0.0150  0.0085  0.0073  0.0050  0.0044   \n",
       "4  0.4459  ...  0.0031  0.0054  0.0105  0.0110  0.0015  0.0072  0.0048   \n",
       "\n",
       "       58      59  60  \n",
       "0  0.0090  0.0032   R  \n",
       "1  0.0052  0.0044   R  \n",
       "2  0.0095  0.0078   R  \n",
       "3  0.0040  0.0117   R  \n",
       "4  0.0107  0.0094   R  \n",
       "\n",
       "[5 rows x 61 columns]"
      ]
     },
     "execution_count": 3,
     "metadata": {},
     "output_type": "execute_result"
    }
   ],
   "source": [
    "df = pd.read_csv(\"/Users/kkutumba/Downloads/sonar_dataset.csv\", header=None)\n",
    "df.head()"
   ]
  },
  {
   "cell_type": "code",
   "execution_count": 4,
   "id": "5cb0eabb-59dd-4825-87b7-dba50c004d8c",
   "metadata": {},
   "outputs": [
    {
     "data": {
      "text/plain": [
       "(208, 61)"
      ]
     },
     "execution_count": 4,
     "metadata": {},
     "output_type": "execute_result"
    }
   ],
   "source": [
    "df.shape"
   ]
  },
  {
   "cell_type": "code",
   "execution_count": 5,
   "id": "bec89b07-e18e-4424-bc77-e7b818808087",
   "metadata": {},
   "outputs": [
    {
     "data": {
      "text/plain": [
       "0     0\n",
       "1     0\n",
       "2     0\n",
       "3     0\n",
       "4     0\n",
       "     ..\n",
       "56    0\n",
       "57    0\n",
       "58    0\n",
       "59    0\n",
       "60    0\n",
       "Length: 61, dtype: int64"
      ]
     },
     "execution_count": 5,
     "metadata": {},
     "output_type": "execute_result"
    }
   ],
   "source": [
    "df.isna().sum()"
   ]
  },
  {
   "cell_type": "code",
   "execution_count": 6,
   "id": "6ee1d60c-b704-46e0-9a4c-82725334d8cf",
   "metadata": {},
   "outputs": [
    {
     "data": {
      "text/plain": [
       "60\n",
       "M    111\n",
       "R     97\n",
       "Name: count, dtype: int64"
      ]
     },
     "execution_count": 6,
     "metadata": {},
     "output_type": "execute_result"
    }
   ],
   "source": [
    "df[60].value_counts()"
   ]
  },
  {
   "cell_type": "code",
   "execution_count": 7,
   "id": "689b75e3-7920-41e6-85a1-b658383fbaba",
   "metadata": {},
   "outputs": [],
   "source": [
    "X = df.drop(60, axis='columns')\n",
    "y = df[60]"
   ]
  },
  {
   "cell_type": "code",
   "execution_count": 8,
   "id": "d211b5cd-957f-4a71-8f77-cb94dfad9b27",
   "metadata": {},
   "outputs": [
    {
     "data": {
      "text/html": [
       "<div>\n",
       "<style scoped>\n",
       "    .dataframe tbody tr th:only-of-type {\n",
       "        vertical-align: middle;\n",
       "    }\n",
       "\n",
       "    .dataframe tbody tr th {\n",
       "        vertical-align: top;\n",
       "    }\n",
       "\n",
       "    .dataframe thead th {\n",
       "        text-align: right;\n",
       "    }\n",
       "</style>\n",
       "<table border=\"1\" class=\"dataframe\">\n",
       "  <thead>\n",
       "    <tr style=\"text-align: right;\">\n",
       "      <th></th>\n",
       "      <th>R</th>\n",
       "    </tr>\n",
       "  </thead>\n",
       "  <tbody>\n",
       "    <tr>\n",
       "      <th>53</th>\n",
       "      <td>True</td>\n",
       "    </tr>\n",
       "    <tr>\n",
       "      <th>43</th>\n",
       "      <td>True</td>\n",
       "    </tr>\n",
       "    <tr>\n",
       "      <th>139</th>\n",
       "      <td>False</td>\n",
       "    </tr>\n",
       "    <tr>\n",
       "      <th>120</th>\n",
       "      <td>False</td>\n",
       "    </tr>\n",
       "    <tr>\n",
       "      <th>33</th>\n",
       "      <td>True</td>\n",
       "    </tr>\n",
       "  </tbody>\n",
       "</table>\n",
       "</div>"
      ],
      "text/plain": [
       "         R\n",
       "53    True\n",
       "43    True\n",
       "139  False\n",
       "120  False\n",
       "33    True"
      ]
     },
     "execution_count": 8,
     "metadata": {},
     "output_type": "execute_result"
    }
   ],
   "source": [
    "y = pd.get_dummies(y, drop_first = True)\n",
    "y.sample(5)"
   ]
  },
  {
   "cell_type": "code",
   "execution_count": 9,
   "id": "43c91eb2-d413-40a6-abce-6a5c14920158",
   "metadata": {},
   "outputs": [
    {
     "data": {
      "text/plain": [
       "R    \n",
       "False    111\n",
       "True      97\n",
       "Name: count, dtype: int64"
      ]
     },
     "execution_count": 9,
     "metadata": {},
     "output_type": "execute_result"
    }
   ],
   "source": [
    "y.value_counts()"
   ]
  },
  {
   "cell_type": "code",
   "execution_count": 10,
   "id": "6747f1cd-73c6-47b5-8606-641cf81de0ca",
   "metadata": {},
   "outputs": [
    {
     "data": {
      "text/plain": [
       "R    bool\n",
       "dtype: object"
      ]
     },
     "execution_count": 10,
     "metadata": {},
     "output_type": "execute_result"
    }
   ],
   "source": [
    "y.dtypes"
   ]
  },
  {
   "cell_type": "code",
   "execution_count": 11,
   "id": "93cbff3d-299e-4714-95ed-ea92c0acb2ce",
   "metadata": {},
   "outputs": [],
   "source": [
    "y = y.astype(int)"
   ]
  },
  {
   "cell_type": "code",
   "execution_count": 12,
   "id": "781168d1-520d-41ef-9cd6-16be56fff5ba",
   "metadata": {},
   "outputs": [
    {
     "data": {
      "text/html": [
       "<div>\n",
       "<style scoped>\n",
       "    .dataframe tbody tr th:only-of-type {\n",
       "        vertical-align: middle;\n",
       "    }\n",
       "\n",
       "    .dataframe tbody tr th {\n",
       "        vertical-align: top;\n",
       "    }\n",
       "\n",
       "    .dataframe thead th {\n",
       "        text-align: right;\n",
       "    }\n",
       "</style>\n",
       "<table border=\"1\" class=\"dataframe\">\n",
       "  <thead>\n",
       "    <tr style=\"text-align: right;\">\n",
       "      <th></th>\n",
       "      <th>R</th>\n",
       "    </tr>\n",
       "  </thead>\n",
       "  <tbody>\n",
       "    <tr>\n",
       "      <th>173</th>\n",
       "      <td>0</td>\n",
       "    </tr>\n",
       "    <tr>\n",
       "      <th>172</th>\n",
       "      <td>0</td>\n",
       "    </tr>\n",
       "    <tr>\n",
       "      <th>117</th>\n",
       "      <td>0</td>\n",
       "    </tr>\n",
       "    <tr>\n",
       "      <th>2</th>\n",
       "      <td>1</td>\n",
       "    </tr>\n",
       "    <tr>\n",
       "      <th>148</th>\n",
       "      <td>0</td>\n",
       "    </tr>\n",
       "  </tbody>\n",
       "</table>\n",
       "</div>"
      ],
      "text/plain": [
       "     R\n",
       "173  0\n",
       "172  0\n",
       "117  0\n",
       "2    1\n",
       "148  0"
      ]
     },
     "execution_count": 12,
     "metadata": {},
     "output_type": "execute_result"
    }
   ],
   "source": [
    "y.sample(5)"
   ]
  },
  {
   "cell_type": "code",
   "execution_count": 13,
   "id": "6ef6765f-2f97-41d4-8b0f-21e81285265f",
   "metadata": {},
   "outputs": [],
   "source": [
    "from sklearn.model_selection import train_test_split\n",
    "X_train, X_test, y_train, y_test = train_test_split(X, y, test_size=0.25, random_state=1)"
   ]
  },
  {
   "cell_type": "code",
   "execution_count": 14,
   "id": "9729d5dc-2d62-45b0-86d0-cdce07dafdce",
   "metadata": {},
   "outputs": [
    {
     "data": {
      "text/plain": [
       "(156, 60)"
      ]
     },
     "execution_count": 14,
     "metadata": {},
     "output_type": "execute_result"
    }
   ],
   "source": [
    " X_train.shape"
   ]
  },
  {
   "cell_type": "code",
   "execution_count": 15,
   "id": "1433a685-5c32-4bd2-b440-a853500425b6",
   "metadata": {},
   "outputs": [
    {
     "data": {
      "text/plain": [
       "(52, 60)"
      ]
     },
     "execution_count": 15,
     "metadata": {},
     "output_type": "execute_result"
    }
   ],
   "source": [
    "X_test.shape"
   ]
  },
  {
   "cell_type": "code",
   "execution_count": 16,
   "id": "004c972a-1f64-475c-9c9d-0844bff4dff7",
   "metadata": {},
   "outputs": [],
   "source": [
    "import tensorflow as tf\n",
    "from tensorflow import keras "
   ]
  },
  {
   "cell_type": "code",
   "execution_count": 17,
   "id": "05e84453-27c3-41f1-99cc-8e702249795e",
   "metadata": {},
   "outputs": [
    {
     "name": "stdout",
     "output_type": "stream",
     "text": [
      "Epoch 1/100\n",
      "20/20 [==============================] - 0s 416us/step - loss: 0.6838 - accuracy: 0.5449\n",
      "Epoch 2/100\n",
      "20/20 [==============================] - 0s 338us/step - loss: 0.6634 - accuracy: 0.6218\n",
      "Epoch 3/100\n",
      "20/20 [==============================] - 0s 336us/step - loss: 0.6427 - accuracy: 0.6987\n",
      "Epoch 4/100\n",
      "20/20 [==============================] - 0s 263us/step - loss: 0.6209 - accuracy: 0.6538\n",
      "Epoch 5/100\n",
      "20/20 [==============================] - 0s 281us/step - loss: 0.5944 - accuracy: 0.7051\n",
      "Epoch 6/100\n",
      "20/20 [==============================] - 0s 319us/step - loss: 0.5641 - accuracy: 0.7308\n",
      "Epoch 7/100\n",
      "20/20 [==============================] - 0s 337us/step - loss: 0.5370 - accuracy: 0.7756\n",
      "Epoch 8/100\n",
      "20/20 [==============================] - 0s 304us/step - loss: 0.5130 - accuracy: 0.7756\n",
      "Epoch 9/100\n",
      "20/20 [==============================] - 0s 348us/step - loss: 0.4706 - accuracy: 0.8013\n",
      "Epoch 10/100\n",
      "20/20 [==============================] - 0s 294us/step - loss: 0.4443 - accuracy: 0.8333\n",
      "Epoch 11/100\n",
      "20/20 [==============================] - 0s 336us/step - loss: 0.4391 - accuracy: 0.7949\n",
      "Epoch 12/100\n",
      " 1/20 [>.............................] - ETA: 0s - loss: 0.5155 - accuracy: 0.6250"
     ]
    },
    {
     "name": "stderr",
     "output_type": "stream",
     "text": [
      "2024-06-27 20:01:26.054899: W tensorflow/tsl/platform/profile_utils/cpu_utils.cc:128] Failed to get CPU frequency: 0 Hz\n"
     ]
    },
    {
     "name": "stdout",
     "output_type": "stream",
     "text": [
      "20/20 [==============================] - 0s 305us/step - loss: 0.3963 - accuracy: 0.8141\n",
      "Epoch 13/100\n",
      "20/20 [==============================] - 0s 325us/step - loss: 0.3809 - accuracy: 0.8269\n",
      "Epoch 14/100\n",
      "20/20 [==============================] - 0s 311us/step - loss: 0.3536 - accuracy: 0.9103\n",
      "Epoch 15/100\n",
      "20/20 [==============================] - 0s 291us/step - loss: 0.3383 - accuracy: 0.8654\n",
      "Epoch 16/100\n",
      "20/20 [==============================] - 0s 323us/step - loss: 0.3394 - accuracy: 0.8590\n",
      "Epoch 17/100\n",
      "20/20 [==============================] - 0s 306us/step - loss: 0.3383 - accuracy: 0.8654\n",
      "Epoch 18/100\n",
      "20/20 [==============================] - 0s 321us/step - loss: 0.3066 - accuracy: 0.9038\n",
      "Epoch 19/100\n",
      "20/20 [==============================] - 0s 296us/step - loss: 0.2828 - accuracy: 0.9103\n",
      "Epoch 20/100\n",
      "20/20 [==============================] - 0s 291us/step - loss: 0.2870 - accuracy: 0.8910\n",
      "Epoch 21/100\n",
      "20/20 [==============================] - 0s 329us/step - loss: 0.2634 - accuracy: 0.9103\n",
      "Epoch 22/100\n",
      "20/20 [==============================] - 0s 303us/step - loss: 0.2565 - accuracy: 0.9231\n",
      "Epoch 23/100\n",
      "20/20 [==============================] - 0s 333us/step - loss: 0.2422 - accuracy: 0.9103\n",
      "Epoch 24/100\n",
      "20/20 [==============================] - 0s 301us/step - loss: 0.2192 - accuracy: 0.9295\n",
      "Epoch 25/100\n",
      "20/20 [==============================] - 0s 1ms/step - loss: 0.2314 - accuracy: 0.9295\n",
      "Epoch 26/100\n",
      "20/20 [==============================] - 0s 309us/step - loss: 0.1996 - accuracy: 0.9487\n",
      "Epoch 27/100\n",
      "20/20 [==============================] - 0s 294us/step - loss: 0.1994 - accuracy: 0.9359\n",
      "Epoch 28/100\n",
      "20/20 [==============================] - 0s 335us/step - loss: 0.2001 - accuracy: 0.9359\n",
      "Epoch 29/100\n",
      "20/20 [==============================] - 0s 304us/step - loss: 0.1775 - accuracy: 0.9359\n",
      "Epoch 30/100\n",
      "20/20 [==============================] - 0s 316us/step - loss: 0.1767 - accuracy: 0.9423\n",
      "Epoch 31/100\n",
      "20/20 [==============================] - 0s 307us/step - loss: 0.1710 - accuracy: 0.9359\n",
      "Epoch 32/100\n",
      "20/20 [==============================] - 0s 303us/step - loss: 0.1430 - accuracy: 0.9551\n",
      "Epoch 33/100\n",
      "20/20 [==============================] - 0s 328us/step - loss: 0.1779 - accuracy: 0.9423\n",
      "Epoch 34/100\n",
      "20/20 [==============================] - 0s 290us/step - loss: 0.1445 - accuracy: 0.9615\n",
      "Epoch 35/100\n",
      "20/20 [==============================] - 0s 318us/step - loss: 0.1470 - accuracy: 0.9423\n",
      "Epoch 36/100\n",
      "20/20 [==============================] - 0s 304us/step - loss: 0.1529 - accuracy: 0.9359\n",
      "Epoch 37/100\n",
      "20/20 [==============================] - 0s 304us/step - loss: 0.1159 - accuracy: 0.9679\n",
      "Epoch 38/100\n",
      "20/20 [==============================] - 0s 311us/step - loss: 0.1107 - accuracy: 0.9808\n",
      "Epoch 39/100\n",
      "20/20 [==============================] - 0s 299us/step - loss: 0.1212 - accuracy: 0.9487\n",
      "Epoch 40/100\n",
      "20/20 [==============================] - 0s 364us/step - loss: 0.0953 - accuracy: 0.9808\n",
      "Epoch 41/100\n",
      "20/20 [==============================] - 0s 335us/step - loss: 0.0878 - accuracy: 0.9872\n",
      "Epoch 42/100\n",
      "20/20 [==============================] - 0s 339us/step - loss: 0.0930 - accuracy: 0.9679\n",
      "Epoch 43/100\n",
      "20/20 [==============================] - 0s 303us/step - loss: 0.0874 - accuracy: 0.9808\n",
      "Epoch 44/100\n",
      "20/20 [==============================] - 0s 306us/step - loss: 0.0872 - accuracy: 0.9808\n",
      "Epoch 45/100\n",
      "20/20 [==============================] - 0s 310us/step - loss: 0.0666 - accuracy: 0.9936\n",
      "Epoch 46/100\n",
      "20/20 [==============================] - 0s 297us/step - loss: 0.0728 - accuracy: 0.9872\n",
      "Epoch 47/100\n",
      "20/20 [==============================] - 0s 333us/step - loss: 0.0770 - accuracy: 0.9744\n",
      "Epoch 48/100\n",
      "20/20 [==============================] - 0s 291us/step - loss: 0.0691 - accuracy: 0.9936\n",
      "Epoch 49/100\n",
      "20/20 [==============================] - 0s 334us/step - loss: 0.0875 - accuracy: 0.9808\n",
      "Epoch 50/100\n",
      "20/20 [==============================] - 0s 304us/step - loss: 0.0637 - accuracy: 0.9808\n",
      "Epoch 51/100\n",
      "20/20 [==============================] - 0s 305us/step - loss: 0.0505 - accuracy: 0.9872\n",
      "Epoch 52/100\n",
      "20/20 [==============================] - 0s 317us/step - loss: 0.0399 - accuracy: 1.0000\n",
      "Epoch 53/100\n",
      "20/20 [==============================] - 0s 297us/step - loss: 0.0476 - accuracy: 0.9936\n",
      "Epoch 54/100\n",
      "20/20 [==============================] - 0s 351us/step - loss: 0.0329 - accuracy: 0.9936\n",
      "Epoch 55/100\n",
      "20/20 [==============================] - 0s 1ms/step - loss: 0.0330 - accuracy: 1.0000\n",
      "Epoch 56/100\n",
      "20/20 [==============================] - 0s 318us/step - loss: 0.0330 - accuracy: 1.0000\n",
      "Epoch 57/100\n",
      "20/20 [==============================] - 0s 314us/step - loss: 0.0282 - accuracy: 0.9936\n",
      "Epoch 58/100\n",
      "20/20 [==============================] - 0s 294us/step - loss: 0.0333 - accuracy: 1.0000\n",
      "Epoch 59/100\n",
      "20/20 [==============================] - 0s 325us/step - loss: 0.0403 - accuracy: 0.9872\n",
      "Epoch 60/100\n",
      "20/20 [==============================] - 0s 300us/step - loss: 0.0320 - accuracy: 1.0000\n",
      "Epoch 61/100\n",
      "20/20 [==============================] - 0s 311us/step - loss: 0.0323 - accuracy: 1.0000\n",
      "Epoch 62/100\n",
      "20/20 [==============================] - 0s 301us/step - loss: 0.0214 - accuracy: 1.0000\n",
      "Epoch 63/100\n",
      "20/20 [==============================] - 0s 295us/step - loss: 0.0180 - accuracy: 1.0000\n",
      "Epoch 64/100\n",
      "20/20 [==============================] - 0s 316us/step - loss: 0.0163 - accuracy: 1.0000\n",
      "Epoch 65/100\n",
      "20/20 [==============================] - 0s 302us/step - loss: 0.0157 - accuracy: 1.0000\n",
      "Epoch 66/100\n",
      "20/20 [==============================] - 0s 309us/step - loss: 0.0136 - accuracy: 1.0000\n",
      "Epoch 67/100\n",
      "20/20 [==============================] - 0s 303us/step - loss: 0.0134 - accuracy: 1.0000\n",
      "Epoch 68/100\n",
      "20/20 [==============================] - 0s 298us/step - loss: 0.0154 - accuracy: 1.0000\n",
      "Epoch 69/100\n",
      "20/20 [==============================] - 0s 299us/step - loss: 0.0115 - accuracy: 1.0000\n",
      "Epoch 70/100\n",
      "20/20 [==============================] - 0s 289us/step - loss: 0.0116 - accuracy: 1.0000\n",
      "Epoch 71/100\n",
      "20/20 [==============================] - 0s 302us/step - loss: 0.0109 - accuracy: 1.0000\n",
      "Epoch 72/100\n",
      "20/20 [==============================] - 0s 295us/step - loss: 0.0105 - accuracy: 1.0000\n",
      "Epoch 73/100\n",
      "20/20 [==============================] - 0s 299us/step - loss: 0.0094 - accuracy: 1.0000\n",
      "Epoch 74/100\n",
      "20/20 [==============================] - 0s 317us/step - loss: 0.0088 - accuracy: 1.0000\n",
      "Epoch 75/100\n",
      "20/20 [==============================] - 0s 295us/step - loss: 0.0093 - accuracy: 1.0000\n",
      "Epoch 76/100\n",
      "20/20 [==============================] - 0s 314us/step - loss: 0.0081 - accuracy: 1.0000\n",
      "Epoch 77/100\n",
      "20/20 [==============================] - 0s 362us/step - loss: 0.0075 - accuracy: 1.0000\n",
      "Epoch 78/100\n",
      "20/20 [==============================] - 0s 330us/step - loss: 0.0083 - accuracy: 1.0000\n",
      "Epoch 79/100\n",
      "20/20 [==============================] - 0s 302us/step - loss: 0.0074 - accuracy: 1.0000\n",
      "Epoch 80/100\n",
      "20/20 [==============================] - 0s 302us/step - loss: 0.0070 - accuracy: 1.0000\n",
      "Epoch 81/100\n",
      "20/20 [==============================] - 0s 300us/step - loss: 0.0064 - accuracy: 1.0000\n",
      "Epoch 82/100\n",
      "20/20 [==============================] - 0s 293us/step - loss: 0.0064 - accuracy: 1.0000\n",
      "Epoch 83/100\n",
      "20/20 [==============================] - 0s 336us/step - loss: 0.0062 - accuracy: 1.0000\n",
      "Epoch 84/100\n",
      "20/20 [==============================] - 0s 303us/step - loss: 0.0059 - accuracy: 1.0000\n",
      "Epoch 85/100\n",
      "20/20 [==============================] - 0s 305us/step - loss: 0.0053 - accuracy: 1.0000\n",
      "Epoch 86/100\n",
      "20/20 [==============================] - 0s 316us/step - loss: 0.0053 - accuracy: 1.0000\n",
      "Epoch 87/100\n",
      "20/20 [==============================] - 0s 291us/step - loss: 0.0050 - accuracy: 1.0000\n",
      "Epoch 88/100\n",
      "20/20 [==============================] - 0s 323us/step - loss: 0.0050 - accuracy: 1.0000\n",
      "Epoch 89/100\n",
      "20/20 [==============================] - 0s 300us/step - loss: 0.0057 - accuracy: 1.0000\n",
      "Epoch 90/100\n",
      "20/20 [==============================] - 0s 313us/step - loss: 0.0047 - accuracy: 1.0000\n",
      "Epoch 91/100\n",
      "20/20 [==============================] - 0s 1ms/step - loss: 0.0049 - accuracy: 1.0000\n",
      "Epoch 92/100\n",
      "20/20 [==============================] - 0s 310us/step - loss: 0.0045 - accuracy: 1.0000\n",
      "Epoch 93/100\n",
      "20/20 [==============================] - 0s 330us/step - loss: 0.0047 - accuracy: 1.0000\n",
      "Epoch 94/100\n",
      "20/20 [==============================] - 0s 300us/step - loss: 0.0044 - accuracy: 1.0000\n",
      "Epoch 95/100\n",
      "20/20 [==============================] - 0s 304us/step - loss: 0.0037 - accuracy: 1.0000\n",
      "Epoch 96/100\n",
      "20/20 [==============================] - 0s 308us/step - loss: 0.0039 - accuracy: 1.0000\n",
      "Epoch 97/100\n",
      "20/20 [==============================] - 0s 301us/step - loss: 0.0033 - accuracy: 1.0000\n",
      "Epoch 98/100\n",
      "20/20 [==============================] - 0s 313us/step - loss: 0.0030 - accuracy: 1.0000\n",
      "Epoch 99/100\n",
      "20/20 [==============================] - 0s 300us/step - loss: 0.0028 - accuracy: 1.0000\n",
      "Epoch 100/100\n",
      "20/20 [==============================] - 0s 310us/step - loss: 0.0028 - accuracy: 1.0000\n"
     ]
    },
    {
     "data": {
      "text/plain": [
       "<keras.callbacks.History at 0x162c30250>"
      ]
     },
     "execution_count": 17,
     "metadata": {},
     "output_type": "execute_result"
    }
   ],
   "source": [
    "model = keras.Sequential([\n",
    "    keras.layers.Dense(60, input_dim=60, activation='relu'),\n",
    "    keras.layers.Dense(30, activation='relu'),\n",
    "    keras.layers.Dense(15, activation='relu'),\n",
    "    keras.layers.Dense(1, activation='sigmoid')\n",
    "])\n",
    "model.compile(loss='binary_crossentropy', optimizer='adam', metrics=['accuracy'])\n",
    "\n",
    "model.fit(X_train, y_train, epochs=100, batch_size=8)"
   ]
  },
  {
   "cell_type": "code",
   "execution_count": 18,
   "id": "88c0d7b7-fe52-4bda-9f2a-52457537903b",
   "metadata": {},
   "outputs": [
    {
     "name": "stdout",
     "output_type": "stream",
     "text": [
      "2/2 [==============================] - 0s 1ms/step - loss: 1.1149 - accuracy: 0.7692\n"
     ]
    },
    {
     "data": {
      "text/plain": [
       "[1.1149418354034424, 0.7692307829856873]"
      ]
     },
     "execution_count": 18,
     "metadata": {},
     "output_type": "execute_result"
    }
   ],
   "source": [
    "model.evaluate(X_test, y_test)"
   ]
  },
  {
   "cell_type": "code",
   "execution_count": 19,
   "id": "37c28ac5-1feb-456f-85ac-ff50e6af1d54",
   "metadata": {},
   "outputs": [
    {
     "name": "stdout",
     "output_type": "stream",
     "text": [
      "2/2 [==============================] - 0s 696us/step\n",
      "[7.9261259e-10 9.9788988e-01 9.9807686e-01 5.3838830e-06 9.9999642e-01\n",
      " 9.9973172e-01 3.7739970e-02 9.9999821e-01 4.1855915e-07 9.9999928e-01]\n",
      "[0. 1. 1. 0. 1. 1. 0. 1. 0. 1.]\n"
     ]
    }
   ],
   "source": [
    "y_pred = model.predict(X_test).reshape(-1)\n",
    "print(y_pred[:10])\n",
    "\n",
    "y_pred = np.round(y_pred)\n",
    "print(y_pred[:10])"
   ]
  },
  {
   "cell_type": "code",
   "execution_count": 20,
   "id": "aa7058ec-dcf9-43de-9005-94d4e1e49bb9",
   "metadata": {},
   "outputs": [
    {
     "data": {
      "text/html": [
       "<div>\n",
       "<style scoped>\n",
       "    .dataframe tbody tr th:only-of-type {\n",
       "        vertical-align: middle;\n",
       "    }\n",
       "\n",
       "    .dataframe tbody tr th {\n",
       "        vertical-align: top;\n",
       "    }\n",
       "\n",
       "    .dataframe thead th {\n",
       "        text-align: right;\n",
       "    }\n",
       "</style>\n",
       "<table border=\"1\" class=\"dataframe\">\n",
       "  <thead>\n",
       "    <tr style=\"text-align: right;\">\n",
       "      <th></th>\n",
       "      <th>R</th>\n",
       "    </tr>\n",
       "  </thead>\n",
       "  <tbody>\n",
       "    <tr>\n",
       "      <th>186</th>\n",
       "      <td>0</td>\n",
       "    </tr>\n",
       "    <tr>\n",
       "      <th>155</th>\n",
       "      <td>0</td>\n",
       "    </tr>\n",
       "    <tr>\n",
       "      <th>165</th>\n",
       "      <td>0</td>\n",
       "    </tr>\n",
       "    <tr>\n",
       "      <th>200</th>\n",
       "      <td>0</td>\n",
       "    </tr>\n",
       "    <tr>\n",
       "      <th>58</th>\n",
       "      <td>1</td>\n",
       "    </tr>\n",
       "    <tr>\n",
       "      <th>34</th>\n",
       "      <td>1</td>\n",
       "    </tr>\n",
       "    <tr>\n",
       "      <th>151</th>\n",
       "      <td>0</td>\n",
       "    </tr>\n",
       "    <tr>\n",
       "      <th>18</th>\n",
       "      <td>1</td>\n",
       "    </tr>\n",
       "    <tr>\n",
       "      <th>202</th>\n",
       "      <td>0</td>\n",
       "    </tr>\n",
       "    <tr>\n",
       "      <th>62</th>\n",
       "      <td>1</td>\n",
       "    </tr>\n",
       "  </tbody>\n",
       "</table>\n",
       "</div>"
      ],
      "text/plain": [
       "     R\n",
       "186  0\n",
       "155  0\n",
       "165  0\n",
       "200  0\n",
       "58   1\n",
       "34   1\n",
       "151  0\n",
       "18   1\n",
       "202  0\n",
       "62   1"
      ]
     },
     "execution_count": 20,
     "metadata": {},
     "output_type": "execute_result"
    }
   ],
   "source": [
    "y_test[:10]"
   ]
  },
  {
   "cell_type": "code",
   "execution_count": 21,
   "id": "a53a23b4-6e84-4b67-ae9f-29e1eb1b0c34",
   "metadata": {},
   "outputs": [
    {
     "name": "stdout",
     "output_type": "stream",
     "text": [
      "              precision    recall  f1-score   support\n",
      "\n",
      "           0       0.74      0.85      0.79        27\n",
      "           1       0.81      0.68      0.74        25\n",
      "\n",
      "    accuracy                           0.77        52\n",
      "   macro avg       0.78      0.77      0.77        52\n",
      "weighted avg       0.77      0.77      0.77        52\n",
      "\n"
     ]
    }
   ],
   "source": [
    "from sklearn.metrics import confusion_matrix, classification_report\n",
    "print(classification_report(y_test, y_pred))"
   ]
  },
  {
   "cell_type": "code",
   "execution_count": 22,
   "id": "194171f6-6d82-4e3b-829c-02d1a2eef676",
   "metadata": {},
   "outputs": [
    {
     "name": "stdout",
     "output_type": "stream",
     "text": [
      "Epoch 1/100\n",
      "20/20 [==============================] - 0s 376us/step - loss: 0.7832 - accuracy: 0.4936\n",
      "Epoch 2/100\n",
      "20/20 [==============================] - 0s 354us/step - loss: 0.7400 - accuracy: 0.4615\n",
      "Epoch 3/100\n",
      "20/20 [==============================] - 0s 304us/step - loss: 0.7129 - accuracy: 0.4872\n",
      "Epoch 4/100\n",
      "20/20 [==============================] - 0s 294us/step - loss: 0.7211 - accuracy: 0.4231\n",
      "Epoch 5/100\n",
      "20/20 [==============================] - 0s 299us/step - loss: 0.6940 - accuracy: 0.5128\n",
      "Epoch 6/100\n",
      "20/20 [==============================] - 0s 303us/step - loss: 0.6833 - accuracy: 0.5577\n",
      "Epoch 7/100\n",
      "20/20 [==============================] - 0s 308us/step - loss: 0.7070 - accuracy: 0.4936\n",
      "Epoch 8/100\n",
      "20/20 [==============================] - 0s 304us/step - loss: 0.7038 - accuracy: 0.5064\n",
      "Epoch 9/100\n",
      "20/20 [==============================] - 0s 301us/step - loss: 0.6947 - accuracy: 0.4872\n",
      "Epoch 10/100\n",
      "20/20 [==============================] - 0s 304us/step - loss: 0.6712 - accuracy: 0.6282\n",
      "Epoch 11/100\n",
      "20/20 [==============================] - 0s 308us/step - loss: 0.6884 - accuracy: 0.5321\n",
      "Epoch 12/100\n",
      "20/20 [==============================] - 0s 335us/step - loss: 0.6930 - accuracy: 0.5833\n",
      "Epoch 13/100\n",
      "20/20 [==============================] - 0s 356us/step - loss: 0.6896 - accuracy: 0.5256\n",
      "Epoch 14/100\n",
      "20/20 [==============================] - 0s 305us/step - loss: 0.6786 - accuracy: 0.5833\n",
      "Epoch 15/100\n",
      "20/20 [==============================] - 0s 311us/step - loss: 0.6746 - accuracy: 0.5513\n",
      "Epoch 16/100\n",
      "20/20 [==============================] - 0s 312us/step - loss: 0.6870 - accuracy: 0.5128\n",
      "Epoch 17/100\n",
      "20/20 [==============================] - 0s 308us/step - loss: 0.6757 - accuracy: 0.5256\n",
      "Epoch 18/100\n",
      "20/20 [==============================] - 0s 336us/step - loss: 0.6372 - accuracy: 0.6795\n",
      "Epoch 19/100\n",
      "20/20 [==============================] - 0s 308us/step - loss: 0.6383 - accuracy: 0.6346\n",
      "Epoch 20/100\n",
      "20/20 [==============================] - 0s 337us/step - loss: 0.6310 - accuracy: 0.6154\n",
      "Epoch 21/100\n",
      "20/20 [==============================] - 0s 316us/step - loss: 0.6671 - accuracy: 0.6282\n",
      "Epoch 22/100\n",
      "20/20 [==============================] - 0s 340us/step - loss: 0.6400 - accuracy: 0.6667\n",
      "Epoch 23/100\n",
      "20/20 [==============================] - 0s 317us/step - loss: 0.6609 - accuracy: 0.6026\n",
      "Epoch 24/100\n",
      "20/20 [==============================] - 0s 318us/step - loss: 0.6143 - accuracy: 0.7179\n",
      "Epoch 25/100\n",
      "20/20 [==============================] - 0s 315us/step - loss: 0.6323 - accuracy: 0.6859\n",
      "Epoch 26/100\n",
      "20/20 [==============================] - 0s 304us/step - loss: 0.6054 - accuracy: 0.7372\n",
      "Epoch 27/100\n",
      "20/20 [==============================] - 0s 323us/step - loss: 0.6237 - accuracy: 0.6795\n",
      "Epoch 28/100\n",
      "20/20 [==============================] - 0s 317us/step - loss: 0.5918 - accuracy: 0.7179\n",
      "Epoch 29/100\n",
      "20/20 [==============================] - 0s 324us/step - loss: 0.6052 - accuracy: 0.6923\n",
      "Epoch 30/100\n",
      "20/20 [==============================] - 0s 316us/step - loss: 0.6105 - accuracy: 0.7051\n",
      "Epoch 31/100\n",
      "20/20 [==============================] - 0s 345us/step - loss: 0.5936 - accuracy: 0.7051\n",
      "Epoch 32/100\n",
      "20/20 [==============================] - 0s 319us/step - loss: 0.5765 - accuracy: 0.7179\n",
      "Epoch 33/100\n",
      "20/20 [==============================] - 0s 312us/step - loss: 0.6641 - accuracy: 0.6154\n",
      "Epoch 34/100\n",
      "20/20 [==============================] - 0s 345us/step - loss: 0.5741 - accuracy: 0.7436\n",
      "Epoch 35/100\n",
      "20/20 [==============================] - 0s 308us/step - loss: 0.5537 - accuracy: 0.7885\n",
      "Epoch 36/100\n",
      "20/20 [==============================] - 0s 347us/step - loss: 0.5931 - accuracy: 0.7436\n",
      "Epoch 37/100\n",
      "20/20 [==============================] - 0s 319us/step - loss: 0.5377 - accuracy: 0.7885\n",
      "Epoch 38/100\n",
      "20/20 [==============================] - 0s 362us/step - loss: 0.5632 - accuracy: 0.7692\n",
      "Epoch 39/100\n",
      "20/20 [==============================] - 0s 315us/step - loss: 0.5581 - accuracy: 0.7372\n",
      "Epoch 40/100\n",
      "20/20 [==============================] - 0s 340us/step - loss: 0.5193 - accuracy: 0.7692\n",
      "Epoch 41/100\n",
      "20/20 [==============================] - 0s 314us/step - loss: 0.5066 - accuracy: 0.7821\n",
      "Epoch 42/100\n",
      "20/20 [==============================] - 0s 301us/step - loss: 0.5394 - accuracy: 0.7821\n",
      "Epoch 43/100\n",
      "20/20 [==============================] - 0s 333us/step - loss: 0.5072 - accuracy: 0.7949\n",
      "Epoch 44/100\n",
      "20/20 [==============================] - 0s 314us/step - loss: 0.4986 - accuracy: 0.7692\n",
      "Epoch 45/100\n",
      "20/20 [==============================] - 0s 1ms/step - loss: 0.5103 - accuracy: 0.7564\n",
      "Epoch 46/100\n",
      "20/20 [==============================] - 0s 330us/step - loss: 0.4923 - accuracy: 0.7821\n",
      "Epoch 47/100\n",
      "20/20 [==============================] - 0s 344us/step - loss: 0.5114 - accuracy: 0.7821\n",
      "Epoch 48/100\n",
      "20/20 [==============================] - 0s 319us/step - loss: 0.5104 - accuracy: 0.7821\n",
      "Epoch 49/100\n",
      "20/20 [==============================] - 0s 329us/step - loss: 0.4587 - accuracy: 0.8333\n",
      "Epoch 50/100\n",
      "20/20 [==============================] - 0s 317us/step - loss: 0.4737 - accuracy: 0.7821\n",
      "Epoch 51/100\n",
      "20/20 [==============================] - 0s 313us/step - loss: 0.4780 - accuracy: 0.7692\n",
      "Epoch 52/100\n",
      "20/20 [==============================] - 0s 336us/step - loss: 0.4324 - accuracy: 0.7821\n",
      "Epoch 53/100\n",
      "20/20 [==============================] - 0s 308us/step - loss: 0.4040 - accuracy: 0.8462\n",
      "Epoch 54/100\n",
      "20/20 [==============================] - 0s 366us/step - loss: 0.4079 - accuracy: 0.8397\n",
      "Epoch 55/100\n",
      "20/20 [==============================] - 0s 315us/step - loss: 0.4262 - accuracy: 0.7949\n",
      "Epoch 56/100\n",
      "20/20 [==============================] - 0s 351us/step - loss: 0.4271 - accuracy: 0.8077\n",
      "Epoch 57/100\n",
      "20/20 [==============================] - 0s 313us/step - loss: 0.4708 - accuracy: 0.7756\n",
      "Epoch 58/100\n",
      "20/20 [==============================] - 0s 333us/step - loss: 0.4104 - accuracy: 0.8205\n",
      "Epoch 59/100\n",
      "20/20 [==============================] - 0s 317us/step - loss: 0.4064 - accuracy: 0.8397\n",
      "Epoch 60/100\n",
      "20/20 [==============================] - 0s 316us/step - loss: 0.4001 - accuracy: 0.8205\n",
      "Epoch 61/100\n",
      "20/20 [==============================] - 0s 314us/step - loss: 0.4009 - accuracy: 0.8397\n",
      "Epoch 62/100\n",
      "20/20 [==============================] - 0s 313us/step - loss: 0.4247 - accuracy: 0.8397\n",
      "Epoch 63/100\n",
      "20/20 [==============================] - 0s 375us/step - loss: 0.3791 - accuracy: 0.8526\n",
      "Epoch 64/100\n",
      "20/20 [==============================] - 0s 319us/step - loss: 0.3434 - accuracy: 0.8846\n",
      "Epoch 65/100\n",
      "20/20 [==============================] - 0s 346us/step - loss: 0.4160 - accuracy: 0.8141\n",
      "Epoch 66/100\n",
      "20/20 [==============================] - 0s 318us/step - loss: 0.4182 - accuracy: 0.8141\n",
      "Epoch 67/100\n",
      "20/20 [==============================] - 0s 320us/step - loss: 0.3994 - accuracy: 0.8141\n",
      "Epoch 68/100\n",
      "20/20 [==============================] - 0s 320us/step - loss: 0.3672 - accuracy: 0.8654\n",
      "Epoch 69/100\n",
      "20/20 [==============================] - 0s 312us/step - loss: 0.3441 - accuracy: 0.8654\n",
      "Epoch 70/100\n",
      "20/20 [==============================] - 0s 323us/step - loss: 0.3549 - accuracy: 0.8333\n",
      "Epoch 71/100\n",
      "20/20 [==============================] - 0s 320us/step - loss: 0.4069 - accuracy: 0.8397\n",
      "Epoch 72/100\n",
      "20/20 [==============================] - 0s 342us/step - loss: 0.3481 - accuracy: 0.8333\n",
      "Epoch 73/100\n",
      "20/20 [==============================] - 0s 315us/step - loss: 0.3521 - accuracy: 0.8526\n",
      "Epoch 74/100\n",
      "20/20 [==============================] - 0s 336us/step - loss: 0.3184 - accuracy: 0.8910\n",
      "Epoch 75/100\n",
      "20/20 [==============================] - 0s 317us/step - loss: 0.2633 - accuracy: 0.8782\n",
      "Epoch 76/100\n",
      "20/20 [==============================] - 0s 310us/step - loss: 0.4232 - accuracy: 0.8397\n",
      "Epoch 77/100\n",
      "20/20 [==============================] - 0s 313us/step - loss: 0.4182 - accuracy: 0.7949\n",
      "Epoch 78/100\n",
      "20/20 [==============================] - 0s 311us/step - loss: 0.3709 - accuracy: 0.8782\n",
      "Epoch 79/100\n",
      "20/20 [==============================] - 0s 347us/step - loss: 0.2919 - accuracy: 0.8910\n",
      "Epoch 80/100\n",
      "20/20 [==============================] - 0s 314us/step - loss: 0.3042 - accuracy: 0.8846\n",
      "Epoch 81/100\n",
      "20/20 [==============================] - 0s 1ms/step - loss: 0.3378 - accuracy: 0.8526\n",
      "Epoch 82/100\n",
      "20/20 [==============================] - 0s 331us/step - loss: 0.3061 - accuracy: 0.8718\n",
      "Epoch 83/100\n",
      "20/20 [==============================] - 0s 316us/step - loss: 0.2906 - accuracy: 0.8910\n",
      "Epoch 84/100\n",
      "20/20 [==============================] - 0s 321us/step - loss: 0.2518 - accuracy: 0.9103\n",
      "Epoch 85/100\n",
      "20/20 [==============================] - 0s 310us/step - loss: 0.2825 - accuracy: 0.9038\n",
      "Epoch 86/100\n",
      "20/20 [==============================] - 0s 337us/step - loss: 0.2904 - accuracy: 0.8910\n",
      "Epoch 87/100\n",
      "20/20 [==============================] - 0s 313us/step - loss: 0.2908 - accuracy: 0.8974\n",
      "Epoch 88/100\n",
      "20/20 [==============================] - 0s 332us/step - loss: 0.2890 - accuracy: 0.8846\n",
      "Epoch 89/100\n",
      "20/20 [==============================] - 0s 317us/step - loss: 0.2834 - accuracy: 0.8974\n",
      "Epoch 90/100\n",
      "20/20 [==============================] - 0s 322us/step - loss: 0.2881 - accuracy: 0.8654\n",
      "Epoch 91/100\n",
      "20/20 [==============================] - 0s 317us/step - loss: 0.2145 - accuracy: 0.9359\n",
      "Epoch 92/100\n",
      "20/20 [==============================] - 0s 316us/step - loss: 0.3392 - accuracy: 0.8910\n",
      "Epoch 93/100\n",
      "20/20 [==============================] - 0s 337us/step - loss: 0.3410 - accuracy: 0.8462\n",
      "Epoch 94/100\n",
      "20/20 [==============================] - 0s 317us/step - loss: 0.2459 - accuracy: 0.9167\n",
      "Epoch 95/100\n",
      "20/20 [==============================] - 0s 332us/step - loss: 0.2656 - accuracy: 0.9103\n",
      "Epoch 96/100\n",
      "20/20 [==============================] - 0s 311us/step - loss: 0.2989 - accuracy: 0.8782\n",
      "Epoch 97/100\n",
      "20/20 [==============================] - 0s 327us/step - loss: 0.1904 - accuracy: 0.9167\n",
      "Epoch 98/100\n",
      "20/20 [==============================] - 0s 339us/step - loss: 0.2298 - accuracy: 0.9359\n",
      "Epoch 99/100\n",
      "20/20 [==============================] - 0s 314us/step - loss: 0.2374 - accuracy: 0.9359\n",
      "Epoch 100/100\n",
      "20/20 [==============================] - 0s 374us/step - loss: 0.1789 - accuracy: 0.9359\n"
     ]
    },
    {
     "data": {
      "text/plain": [
       "<keras.callbacks.History at 0x16338e110>"
      ]
     },
     "execution_count": 22,
     "metadata": {},
     "output_type": "execute_result"
    }
   ],
   "source": [
    "modeld = keras.Sequential([\n",
    "    keras.layers.Dense(60, input_dim=60, activation='relu'),\n",
    "    keras.layers.Dropout(0.5),\n",
    "    keras.layers.Dense(30, activation='relu'),\n",
    "    keras.layers.Dropout(0.5),\n",
    "    keras.layers.Dense(15, activation='relu'),\n",
    "    keras.layers.Dropout(0.5),\n",
    "    keras.layers.Dense(1, activation='sigmoid')\n",
    "])\n",
    "modeld.compile(loss='binary_crossentropy', optimizer='adam', metrics=['accuracy'])\n",
    "\n",
    "modeld.fit(X_train, y_train, epochs=100, batch_size=8)"
   ]
  },
  {
   "cell_type": "code",
   "execution_count": 23,
   "id": "8ff06f53-2a8f-4d80-940d-e0284ff80b1f",
   "metadata": {},
   "outputs": [
    {
     "name": "stdout",
     "output_type": "stream",
     "text": [
      "2/2 [==============================] - 0s 1ms/step - loss: 0.5426 - accuracy: 0.7500\n"
     ]
    },
    {
     "data": {
      "text/plain": [
       "[0.5426204204559326, 0.75]"
      ]
     },
     "execution_count": 23,
     "metadata": {},
     "output_type": "execute_result"
    }
   ],
   "source": [
    "modeld.evaluate(X_test, y_test)"
   ]
  },
  {
   "cell_type": "code",
   "execution_count": 24,
   "id": "384fe4f8-6817-43e0-aaff-951ca0703f0b",
   "metadata": {},
   "outputs": [
    {
     "name": "stdout",
     "output_type": "stream",
     "text": [
      "2/2 [==============================] - 0s 738us/step\n",
      "[9.1655558e-04 8.4056151e-01 9.9336880e-01 2.0599982e-02 9.9997020e-01\n",
      " 9.4742560e-01 7.9503572e-01 9.9997413e-01 1.8703615e-02 9.9999106e-01]\n",
      "[0. 1. 1. 0. 1. 1. 1. 1. 0. 1.]\n"
     ]
    }
   ],
   "source": [
    "ypred = modeld.predict(X_test).reshape(-1)\n",
    "print(ypred[:10])\n",
    "\n",
    "ypred = np.round(ypred)\n",
    "print(ypred[:10])"
   ]
  },
  {
   "cell_type": "code",
   "execution_count": 25,
   "id": "965fb245-4ab8-483d-9a05-43ea07c8cf52",
   "metadata": {},
   "outputs": [
    {
     "name": "stdout",
     "output_type": "stream",
     "text": [
      "              precision    recall  f1-score   support\n",
      "\n",
      "           0       0.73      0.81      0.77        27\n",
      "           1       0.77      0.68      0.72        25\n",
      "\n",
      "    accuracy                           0.75        52\n",
      "   macro avg       0.75      0.75      0.75        52\n",
      "weighted avg       0.75      0.75      0.75        52\n",
      "\n"
     ]
    }
   ],
   "source": [
    "from sklearn.metrics import confusion_matrix, classification_report\n",
    "print(classification_report(y_test, ypred))"
   ]
  },
  {
   "cell_type": "code",
   "execution_count": null,
   "id": "273aece2-682e-42d0-a9c2-91c1fd9f3842",
   "metadata": {},
   "outputs": [],
   "source": []
  }
 ],
 "metadata": {
  "kernelspec": {
   "display_name": "Python 3 (ipykernel)",
   "language": "python",
   "name": "python3"
  },
  "language_info": {
   "codemirror_mode": {
    "name": "ipython",
    "version": 3
   },
   "file_extension": ".py",
   "mimetype": "text/x-python",
   "name": "python",
   "nbconvert_exporter": "python",
   "pygments_lexer": "ipython3",
   "version": "3.11.5"
  }
 },
 "nbformat": 4,
 "nbformat_minor": 5
}
