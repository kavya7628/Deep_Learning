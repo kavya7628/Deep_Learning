{
 "cells": [
  {
   "cell_type": "code",
   "execution_count": 36,
   "id": "a15c128b-e0f9-4880-a609-da6cb538ba9a",
   "metadata": {},
   "outputs": [],
   "source": [
    "#implementing mini batch gradient descent method\n",
    "import random\n",
    "import pandas as pd\n",
    "import numpy as np\n",
    "from matplotlib import pyplot as plt\n",
    "%matplotlib inline"
   ]
  },
  {
   "cell_type": "code",
   "execution_count": 37,
   "id": "586091c6-3c54-4713-a8ba-e55dbd17558b",
   "metadata": {},
   "outputs": [
    {
     "data": {
      "text/html": [
       "<div>\n",
       "<style scoped>\n",
       "    .dataframe tbody tr th:only-of-type {\n",
       "        vertical-align: middle;\n",
       "    }\n",
       "\n",
       "    .dataframe tbody tr th {\n",
       "        vertical-align: top;\n",
       "    }\n",
       "\n",
       "    .dataframe thead th {\n",
       "        text-align: right;\n",
       "    }\n",
       "</style>\n",
       "<table border=\"1\" class=\"dataframe\">\n",
       "  <thead>\n",
       "    <tr style=\"text-align: right;\">\n",
       "      <th></th>\n",
       "      <th>area</th>\n",
       "      <th>bedrooms</th>\n",
       "      <th>price</th>\n",
       "    </tr>\n",
       "  </thead>\n",
       "  <tbody>\n",
       "    <tr>\n",
       "      <th>0</th>\n",
       "      <td>1056</td>\n",
       "      <td>2</td>\n",
       "      <td>39.07</td>\n",
       "    </tr>\n",
       "    <tr>\n",
       "      <th>1</th>\n",
       "      <td>2600</td>\n",
       "      <td>4</td>\n",
       "      <td>120.00</td>\n",
       "    </tr>\n",
       "    <tr>\n",
       "      <th>2</th>\n",
       "      <td>1440</td>\n",
       "      <td>3</td>\n",
       "      <td>62.00</td>\n",
       "    </tr>\n",
       "    <tr>\n",
       "      <th>3</th>\n",
       "      <td>1521</td>\n",
       "      <td>3</td>\n",
       "      <td>75.00</td>\n",
       "    </tr>\n",
       "    <tr>\n",
       "      <th>4</th>\n",
       "      <td>1200</td>\n",
       "      <td>2</td>\n",
       "      <td>51.00</td>\n",
       "    </tr>\n",
       "  </tbody>\n",
       "</table>\n",
       "</div>"
      ],
      "text/plain": [
       "   area  bedrooms   price\n",
       "0  1056         2   39.07\n",
       "1  2600         4  120.00\n",
       "2  1440         3   62.00\n",
       "3  1521         3   75.00\n",
       "4  1200         2   51.00"
      ]
     },
     "execution_count": 37,
     "metadata": {},
     "output_type": "execute_result"
    }
   ],
   "source": [
    "df = pd.read_csv(\"/Users/kkutumba/Downloads/homeprices_banglore.csv\")\n",
    "df.head()"
   ]
  },
  {
   "cell_type": "code",
   "execution_count": 38,
   "id": "485e41df-c6be-4aca-99cd-0f49b9e1602d",
   "metadata": {},
   "outputs": [
    {
     "data": {
      "text/plain": [
       "array([[0.08827586, 0.25      ],\n",
       "       [0.62068966, 0.75      ],\n",
       "       [0.22068966, 0.5       ],\n",
       "       [0.24862069, 0.5       ],\n",
       "       [0.13793103, 0.25      ],\n",
       "       [0.12758621, 0.25      ],\n",
       "       [0.6662069 , 0.75      ],\n",
       "       [0.86206897, 0.75      ],\n",
       "       [0.17586207, 0.5       ],\n",
       "       [1.        , 1.        ],\n",
       "       [0.34482759, 0.5       ],\n",
       "       [0.68448276, 0.75      ],\n",
       "       [0.06896552, 0.25      ],\n",
       "       [0.10344828, 0.25      ],\n",
       "       [0.5       , 0.5       ],\n",
       "       [0.12931034, 0.25      ],\n",
       "       [0.13103448, 0.5       ],\n",
       "       [0.25517241, 0.5       ],\n",
       "       [0.67931034, 0.5       ],\n",
       "       [0.        , 0.        ]])"
      ]
     },
     "execution_count": 38,
     "metadata": {},
     "output_type": "execute_result"
    }
   ],
   "source": [
    "from sklearn import preprocessing\n",
    "sx = preprocessing.MinMaxScaler()\n",
    "sy = preprocessing.MinMaxScaler()\n",
    "\n",
    "scaled_X = sx.fit_transform(df.drop('price',axis='columns'))\n",
    "scaled_X"
   ]
  },
  {
   "cell_type": "code",
   "execution_count": 39,
   "id": "1add59be-7c2c-49d9-b16b-40eede7ace51",
   "metadata": {},
   "outputs": [
    {
     "data": {
      "text/plain": [
       "array([[0.05237037],\n",
       "       [0.65185185],\n",
       "       [0.22222222],\n",
       "       [0.31851852],\n",
       "       [0.14074074],\n",
       "       [0.04444444],\n",
       "       [0.76296296],\n",
       "       [0.91111111],\n",
       "       [0.13333333],\n",
       "       [1.        ],\n",
       "       [0.37037037],\n",
       "       [0.8       ],\n",
       "       [0.04444444],\n",
       "       [0.05925926],\n",
       "       [0.51111111],\n",
       "       [0.07407407],\n",
       "       [0.11851852],\n",
       "       [0.20740741],\n",
       "       [0.51851852],\n",
       "       [0.        ]])"
      ]
     },
     "execution_count": 39,
     "metadata": {},
     "output_type": "execute_result"
    }
   ],
   "source": [
    "scaled_y = sy.fit_transform(df['price'].values.reshape(df.shape[0],1))\n",
    "scaled_y"
   ]
  },
  {
   "cell_type": "code",
   "execution_count": 40,
   "id": "920015f8-0c1a-415c-8a2d-c94a3411b4bc",
   "metadata": {},
   "outputs": [
    {
     "data": {
      "text/plain": [
       "(array([0.61151923, 0.43949717]),\n",
       " -0.05451589956757325,\n",
       " array([3.52826495e-03, 1.94605463e-02, 6.08738105e-03, 6.46605448e-03,\n",
       "        8.22627652e-06, 1.43137481e-06, 3.64786484e-03, 1.29779290e-02,\n",
       "        3.25025734e-03, 1.18377687e-02, 1.61052292e-02, 9.96109688e-07,\n",
       "        1.19330783e-05, 7.91619024e-03, 2.96951787e-03, 3.33707847e-05,\n",
       "        3.86207739e-03, 1.60680457e-03, 2.82277418e-03, 1.12942006e-02]))"
      ]
     },
     "execution_count": 40,
     "metadata": {},
     "output_type": "execute_result"
    }
   ],
   "source": [
    "def Mini_batch_gradient_descent(X, y_true, epochs=100,batch_size=5, learning_rate=0.01):\n",
    "    number_of_features = X.shape[1]\n",
    "    w = np.ones(shape=(number_of_features))\n",
    "    b = 0\n",
    "    total_samples = X.shape[0]\n",
    "    if batch_size>total_samples:\n",
    "        batch_size = total_samples\n",
    "    cost_list = []\n",
    "    epoch_list = []\n",
    "    num_batches = int(total_samples/batch_size)\n",
    "    \n",
    "    for i in range(epochs):\n",
    "        random_indices = np.random.permutation(total_samples)\n",
    "        sample_X = X[random_indices]\n",
    "        sample_y = y_true[random_indices]\n",
    "\n",
    "        for j in range(0, total_samples, batch_size):\n",
    "            Xj = sample_X[j:j+batch_size]\n",
    "            yj = sample_y[j:j+batch_size]\n",
    "            y_predicted = np.dot(w, sample_X.T)+b\n",
    "        \n",
    "            w_grad = -(2/total_samples)*(sample_X.T.dot(sample_y-y_predicted))\n",
    "            b_grad = -(2/total_samples)*np.mean(sample_y-y_predicted)\n",
    "        \n",
    "            w = w-learning_rate * w_grad\n",
    "            b = b-learning_rate * b_grad\n",
    "        \n",
    "            cost = np.square(sample_y-y_predicted)\n",
    "        \n",
    "        if i%10==0:\n",
    "            cost_list.append(cost)\n",
    "            epoch_list.append(i)\n",
    "    return w, b, cost, cost_list, epoch_list\n",
    "\n",
    "w, b, cost, cost_list, epoch_list = Mini_batch_gradient_descent(scaled_X,scaled_y.reshape(scaled_y.shape[0],),epochs = 120, batch_size = 5)\n",
    "w, b, cost\n",
    "        \n",
    "        \n"
   ]
  },
  {
   "cell_type": "code",
   "execution_count": 41,
   "id": "8d11fa41-3600-4cf8-8db3-f6f087a73576",
   "metadata": {},
   "outputs": [
    {
     "data": {
      "text/plain": [
       "[<matplotlib.lines.Line2D at 0x15ed1a6d0>,\n",
       " <matplotlib.lines.Line2D at 0x15ed4bf50>,\n",
       " <matplotlib.lines.Line2D at 0x15ed48a10>,\n",
       " <matplotlib.lines.Line2D at 0x15ed38a10>,\n",
       " <matplotlib.lines.Line2D at 0x15ed3b490>,\n",
       " <matplotlib.lines.Line2D at 0x15ed3bc10>,\n",
       " <matplotlib.lines.Line2D at 0x1594a2490>,\n",
       " <matplotlib.lines.Line2D at 0x15ed3aed0>,\n",
       " <matplotlib.lines.Line2D at 0x15ed3a110>,\n",
       " <matplotlib.lines.Line2D at 0x15ed96cd0>,\n",
       " <matplotlib.lines.Line2D at 0x15ed5f850>,\n",
       " <matplotlib.lines.Line2D at 0x15ed38d90>,\n",
       " <matplotlib.lines.Line2D at 0x15ed39610>,\n",
       " <matplotlib.lines.Line2D at 0x15ed474d0>,\n",
       " <matplotlib.lines.Line2D at 0x15ee61410>,\n",
       " <matplotlib.lines.Line2D at 0x15ed44590>,\n",
       " <matplotlib.lines.Line2D at 0x15ed44dd0>,\n",
       " <matplotlib.lines.Line2D at 0x15eaf74d0>,\n",
       " <matplotlib.lines.Line2D at 0x15ed44390>,\n",
       " <matplotlib.lines.Line2D at 0x15ed45a10>]"
      ]
     },
     "execution_count": 41,
     "metadata": {},
     "output_type": "execute_result"
    },
    {
     "data": {
      "image/png": "[encoded data removed]",
      "text/plain": [
       "<Figure size 640x480 with 1 Axes>"
      ]
     },
     "metadata": {},
     "output_type": "display_data"
    }
   ],
   "source": [
    "plt.plot(epoch_list,cost_list)"
   ]
  },
  {
   "cell_type": "code",
   "execution_count": null,
   "id": "0bfeee0f-93c8-4e0b-9a30-667dfe8f78a9",
   "metadata": {},
   "outputs": [],
   "source": []
  }
 ],
 "metadata": {
  "kernelspec": {
   "display_name": "Python 3 (ipykernel)",
   "language": "python",
   "name": "python3"
  },
  "language_info": {
   "codemirror_mode": {
    "name": "ipython",
    "version": 3
   },
   "file_extension": ".py",
   "mimetype": "text/x-python",
   "name": "python",
   "nbconvert_exporter": "python",
   "pygments_lexer": "ipython3",
   "version": "3.11.5"
  }
 },
 "nbformat": 4,
 "nbformat_minor": 5
}
